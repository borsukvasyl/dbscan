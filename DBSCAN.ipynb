{
 "cells": [
  {
   "cell_type": "markdown",
   "metadata": {},
   "source": [
    "# DBSCAN"
   ]
  },
  {
   "cell_type": "markdown",
   "metadata": {},
   "source": [
    "## Implementation"
   ]
  },
  {
   "cell_type": "code",
   "execution_count": 1,
   "metadata": {
    "ExecuteTime": {
     "end_time": "2018-10-19T12:42:19.263768Z",
     "start_time": "2018-10-19T12:42:18.682192Z"
    }
   },
   "outputs": [],
   "source": [
    "import numpy as np\n",
    "from sklearn import datasets"
   ]
  },
  {
   "cell_type": "code",
   "execution_count": 2,
   "metadata": {
    "ExecuteTime": {
     "end_time": "2018-10-19T12:42:19.283699Z",
     "start_time": "2018-10-19T12:42:19.266770Z"
    }
   },
   "outputs": [],
   "source": [
    "class DBSCAN(object):\n",
    "    UNCLASSIFIED = -2\n",
    "    NOISE = -1\n",
    "    \n",
    "    def __init__(self, eps=0.5, min_pts=5):\n",
    "        self.eps = eps\n",
    "        self.min_pts = min_pts\n",
    "\n",
    "    def fit(self, X):\n",
    "        labels = np.full([X.shape[0]], DBSCAN.UNCLASSIFIED)\n",
    "        return self._fit(X, labels)\n",
    "\n",
    "    def _fit(self, X, labels):\n",
    "        cluster_id = DBSCAN._next_id(DBSCAN.NOISE)\n",
    "        for point_ind in range(X.shape[0]):\n",
    "            if labels[point_ind] == DBSCAN.UNCLASSIFIED:\n",
    "                if self._expand_cluster(X, labels, point_ind, cluster_id):\n",
    "                    cluster_id = DBSCAN._next_id(cluster_id)\n",
    "        return labels\n",
    "\n",
    "    def _expand_cluster(self, X, labels, point_ind, cluster_id):\n",
    "        region_inds = self._region_query(X, point_ind)\n",
    "        if len(region_inds) < self.min_pts:\n",
    "            labels[point_ind] = DBSCAN.NOISE\n",
    "            return False\n",
    "\n",
    "        # label these points to cluseter_id\n",
    "        labels[region_inds] = cluster_id\n",
    "        labels[point_ind] = cluster_id\n",
    "\n",
    "        queue_inds = deque(region_inds)\n",
    "        while len(queue_inds):\n",
    "            current_point_ind = queue_inds.popleft()\n",
    "\n",
    "            result = self._region_query(X, current_point_ind)\n",
    "            if len(result) > self.min_pts:\n",
    "                is_noise = labels[result] == DBSCAN.NOISE\n",
    "                is_unclassified = labels[result] == DBSCAN.UNCLASSIFIED\n",
    "                \n",
    "                # we add only unclussified points\n",
    "                queue_inds.extend(result[is_unclassified])\n",
    "                # label these points to cluseter_id\n",
    "                labels[result[np.logical_or(is_noise, is_unclassified)]] = cluster_id\n",
    "        return True\n",
    "\n",
    "    def _region_query(self, X, point_ind):\n",
    "        d = np.sqrt(np.sum((X - X[point_ind]) ** 2, axis=1))\n",
    "        mask = d < self.eps\n",
    "        mask[point_ind] = False  # exclude this point\n",
    "        return np.where(mask)[0]\n",
    "\n",
    "    @staticmethod\n",
    "    def _next_id(cluster_id):\n",
    "        return cluster_id + 1\n"
   ]
  },
  {
   "cell_type": "code",
   "execution_count": null,
   "metadata": {},
   "outputs": [],
   "source": []
  }
 ],
 "metadata": {
  "kernelspec": {
   "display_name": "Python (py36ml)",
   "language": "python",
   "name": "py36ml"
  },
  "language_info": {
   "codemirror_mode": {
    "name": "ipython",
    "version": 3
   },
   "file_extension": ".py",
   "mimetype": "text/x-python",
   "name": "python",
   "nbconvert_exporter": "python",
   "pygments_lexer": "ipython3",
   "version": "3.6.6"
  },
  "toc": {
   "base_numbering": 1,
   "nav_menu": {},
   "number_sections": true,
   "sideBar": true,
   "skip_h1_title": false,
   "title_cell": "Table of Contents",
   "title_sidebar": "Contents",
   "toc_cell": false,
   "toc_position": {},
   "toc_section_display": true,
   "toc_window_display": true
  },
  "varInspector": {
   "cols": {
    "lenName": 16,
    "lenType": 16,
    "lenVar": 40
   },
   "kernels_config": {
    "python": {
     "delete_cmd_postfix": "",
     "delete_cmd_prefix": "del ",
     "library": "var_list.py",
     "varRefreshCmd": "print(var_dic_list())"
    },
    "r": {
     "delete_cmd_postfix": ") ",
     "delete_cmd_prefix": "rm(",
     "library": "var_list.r",
     "varRefreshCmd": "cat(var_dic_list()) "
    }
   },
   "types_to_exclude": [
    "module",
    "function",
    "builtin_function_or_method",
    "instance",
    "_Feature"
   ],
   "window_display": false
  }
 },
 "nbformat": 4,
 "nbformat_minor": 2
}
